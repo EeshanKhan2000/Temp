{
 "cells": [
  {
   "cell_type": "code",
   "execution_count": 1,
   "metadata": {},
   "outputs": [
    {
     "name": "stdout",
     "output_type": "stream",
     "text": [
      "head    0    1   2   3    4     5      6   7  8\n",
      "0  6  148  72  35    0  33.6  0.627  50  1\n",
      "1  1   85  66  29    0  26.6  0.351  31  0\n",
      "2  8  183  64   0    0  23.3  0.672  32  1\n",
      "3  1   89  66  23   94  28.1  0.167  21  0\n",
      "4  0  137  40  35  168  43.1  2.288  33  1\n",
      "tail       0    1   2   3    4     5      6   7  8\n",
      "763  10  101  76  48  180  32.9  0.171  63  0\n",
      "764   2  122  70  27    0  36.8  0.340  27  0\n",
      "765   5  121  72  23  112  26.2  0.245  30  0\n",
      "766   1  126  60   0    0  30.1  0.349  47  1\n",
      "767   1   93  70  31    0  30.4  0.315  23  0\n"
     ]
    }
   ],
   "source": [
    "import pandas as pd\n",
    "import numpy as np\n",
    "import matplotlib.pyplot as plt\n",
    "df=pd.read_csv('prima_indians_diabetes.csv',header=None)\n",
    "print('head',df.head())\n",
    "\n",
    "print('tail',df.tail())\n",
    "\n",
    "df.columns=['preg','glu','bp','sft','ins','bmi','dpf','age','class']\n"
   ]
  },
  {
   "cell_type": "code",
   "execution_count": 2,
   "metadata": {},
   "outputs": [
    {
     "data": {
      "text/plain": [
       "Text(0, 0.5, 'Glucose')"
      ]
     },
     "execution_count": 2,
     "metadata": {},
     "output_type": "execute_result"
    },
    {
     "data": {
      "image/png": "[encoded data removed]",
      "text/plain": [
       "<Figure size 432x288 with 1 Axes>"
      ]
     },
     "metadata": {
      "needs_background": "light"
     },
     "output_type": "display_data"
    }
   ],
   "source": [
    "plt.scatter(df['bmi'],df['glu'])\n",
    "plt.xlabel('bmi')\n",
    "plt.ylabel('Glucose')"
   ]
  },
  {
   "cell_type": "code",
   "execution_count": 3,
   "metadata": {},
   "outputs": [
    {
     "data": {
      "text/plain": [
       "<matplotlib.axes._subplots.AxesSubplot at 0x7f9c94ce9cd0>"
      ]
     },
     "execution_count": 3,
     "metadata": {},
     "output_type": "execute_result"
    },
    {
     "data": {
      "image/png": "[encoded data removed]",
      "text/plain": [
       "<Figure size 432x288 with 1 Axes>"
      ]
     },
     "metadata": {
      "needs_background": "light"
     },
     "output_type": "display_data"
    }
   ],
   "source": [
    "df['age'].hist()"
   ]
  },
  {
   "cell_type": "code",
   "execution_count": 4,
   "metadata": {},
   "outputs": [
    {
     "data": {
      "text/plain": [
       "{'whiskers': [<matplotlib.lines.Line2D at 0x7f9c94c42a50>,\n",
       "  <matplotlib.lines.Line2D at 0x7f9c94c42f90>],\n",
       " 'caps': [<matplotlib.lines.Line2D at 0x7f9c94bcb510>,\n",
       "  <matplotlib.lines.Line2D at 0x7f9c94bcba50>],\n",
       " 'boxes': [<matplotlib.lines.Line2D at 0x7f9c94c2dd50>],\n",
       " 'medians': [<matplotlib.lines.Line2D at 0x7f9c94bcbfd0>],\n",
       " 'fliers': [<matplotlib.lines.Line2D at 0x7f9c94bd2550>],\n",
       " 'means': []}"
      ]
     },
     "execution_count": 4,
     "metadata": {},
     "output_type": "execute_result"
    },
    {
     "data": {
      "image/png": "[encoded data removed]",
      "text/plain": [
       "<Figure size 432x288 with 1 Axes>"
      ]
     },
     "metadata": {
      "needs_background": "light"
     },
     "output_type": "display_data"
    }
   ],
   "source": [
    "plt.boxplot(df['class'])"
   ]
  },
  {
   "cell_type": "code",
   "execution_count": 5,
   "metadata": {},
   "outputs": [
    {
     "data": {
      "text/html": [
       "<div>\n",
       "<style scoped>\n",
       "    .dataframe tbody tr th:only-of-type {\n",
       "        vertical-align: middle;\n",
       "    }\n",
       "\n",
       "    .dataframe tbody tr th {\n",
       "        vertical-align: top;\n",
       "    }\n",
       "\n",
       "    .dataframe thead th {\n",
       "        text-align: right;\n",
       "    }\n",
       "</style>\n",
       "<table border=\"1\" class=\"dataframe\">\n",
       "  <thead>\n",
       "    <tr style=\"text-align: right;\">\n",
       "      <th></th>\n",
       "      <th>0</th>\n",
       "      <th>1</th>\n",
       "      <th>2</th>\n",
       "      <th>3</th>\n",
       "      <th>4</th>\n",
       "      <th>5</th>\n",
       "      <th>6</th>\n",
       "      <th>7</th>\n",
       "      <th>8</th>\n",
       "      <th>9</th>\n",
       "      <th>10</th>\n",
       "      <th>11</th>\n",
       "      <th>12</th>\n",
       "      <th>13</th>\n",
       "    </tr>\n",
       "  </thead>\n",
       "  <tbody>\n",
       "    <tr>\n",
       "      <th>0</th>\n",
       "      <td>1</td>\n",
       "      <td>14.23</td>\n",
       "      <td>1.71</td>\n",
       "      <td>2.43</td>\n",
       "      <td>15.6</td>\n",
       "      <td>127</td>\n",
       "      <td>2.80</td>\n",
       "      <td>3.06</td>\n",
       "      <td>0.28</td>\n",
       "      <td>2.29</td>\n",
       "      <td>5.64</td>\n",
       "      <td>1.04</td>\n",
       "      <td>3.92</td>\n",
       "      <td>1065</td>\n",
       "    </tr>\n",
       "    <tr>\n",
       "      <th>1</th>\n",
       "      <td>1</td>\n",
       "      <td>13.20</td>\n",
       "      <td>1.78</td>\n",
       "      <td>2.14</td>\n",
       "      <td>11.2</td>\n",
       "      <td>100</td>\n",
       "      <td>2.65</td>\n",
       "      <td>2.76</td>\n",
       "      <td>0.26</td>\n",
       "      <td>1.28</td>\n",
       "      <td>4.38</td>\n",
       "      <td>1.05</td>\n",
       "      <td>3.40</td>\n",
       "      <td>1050</td>\n",
       "    </tr>\n",
       "    <tr>\n",
       "      <th>2</th>\n",
       "      <td>1</td>\n",
       "      <td>13.16</td>\n",
       "      <td>2.36</td>\n",
       "      <td>2.67</td>\n",
       "      <td>18.6</td>\n",
       "      <td>101</td>\n",
       "      <td>2.80</td>\n",
       "      <td>3.24</td>\n",
       "      <td>0.30</td>\n",
       "      <td>2.81</td>\n",
       "      <td>5.68</td>\n",
       "      <td>1.03</td>\n",
       "      <td>3.17</td>\n",
       "      <td>1185</td>\n",
       "    </tr>\n",
       "    <tr>\n",
       "      <th>3</th>\n",
       "      <td>1</td>\n",
       "      <td>14.37</td>\n",
       "      <td>1.95</td>\n",
       "      <td>2.50</td>\n",
       "      <td>16.8</td>\n",
       "      <td>113</td>\n",
       "      <td>3.85</td>\n",
       "      <td>3.49</td>\n",
       "      <td>0.24</td>\n",
       "      <td>2.18</td>\n",
       "      <td>7.80</td>\n",
       "      <td>0.86</td>\n",
       "      <td>3.45</td>\n",
       "      <td>1480</td>\n",
       "    </tr>\n",
       "    <tr>\n",
       "      <th>4</th>\n",
       "      <td>1</td>\n",
       "      <td>13.24</td>\n",
       "      <td>2.59</td>\n",
       "      <td>2.87</td>\n",
       "      <td>21.0</td>\n",
       "      <td>118</td>\n",
       "      <td>2.80</td>\n",
       "      <td>2.69</td>\n",
       "      <td>0.39</td>\n",
       "      <td>1.82</td>\n",
       "      <td>4.32</td>\n",
       "      <td>1.04</td>\n",
       "      <td>2.93</td>\n",
       "      <td>735</td>\n",
       "    </tr>\n",
       "  </tbody>\n",
       "</table>\n",
       "</div>"
      ],
      "text/plain": [
       "   0      1     2     3     4    5     6     7     8     9     10    11    12  \\\n",
       "0   1  14.23  1.71  2.43  15.6  127  2.80  3.06  0.28  2.29  5.64  1.04  3.92   \n",
       "1   1  13.20  1.78  2.14  11.2  100  2.65  2.76  0.26  1.28  4.38  1.05  3.40   \n",
       "2   1  13.16  2.36  2.67  18.6  101  2.80  3.24  0.30  2.81  5.68  1.03  3.17   \n",
       "3   1  14.37  1.95  2.50  16.8  113  3.85  3.49  0.24  2.18  7.80  0.86  3.45   \n",
       "4   1  13.24  2.59  2.87  21.0  118  2.80  2.69  0.39  1.82  4.32  1.04  2.93   \n",
       "\n",
       "     13  \n",
       "0  1065  \n",
       "1  1050  \n",
       "2  1185  \n",
       "3  1480  \n",
       "4   735  "
      ]
     },
     "execution_count": 5,
     "metadata": {},
     "output_type": "execute_result"
    }
   ],
   "source": [
    "W=pd.read_csv('wine.xls',header=None)\n",
    "W.head()"
   ]
  },
  {
   "cell_type": "code",
   "execution_count": 6,
   "metadata": {},
   "outputs": [
    {
     "data": {
      "text/html": [
       "<div>\n",
       "<style scoped>\n",
       "    .dataframe tbody tr th:only-of-type {\n",
       "        vertical-align: middle;\n",
       "    }\n",
       "\n",
       "    .dataframe tbody tr th {\n",
       "        vertical-align: top;\n",
       "    }\n",
       "\n",
       "    .dataframe thead th {\n",
       "        text-align: right;\n",
       "    }\n",
       "</style>\n",
       "<table border=\"1\" class=\"dataframe\">\n",
       "  <thead>\n",
       "    <tr style=\"text-align: right;\">\n",
       "      <th></th>\n",
       "      <th>Creditability</th>\n",
       "      <th>CreditAmount</th>\n",
       "      <th>DurationOfCreditInMonths</th>\n",
       "    </tr>\n",
       "  </thead>\n",
       "  <tbody>\n",
       "    <tr>\n",
       "      <th>0</th>\n",
       "      <td>1</td>\n",
       "      <td>1049</td>\n",
       "      <td>18</td>\n",
       "    </tr>\n",
       "    <tr>\n",
       "      <th>1</th>\n",
       "      <td>1</td>\n",
       "      <td>2799</td>\n",
       "      <td>9</td>\n",
       "    </tr>\n",
       "    <tr>\n",
       "      <th>2</th>\n",
       "      <td>1</td>\n",
       "      <td>841</td>\n",
       "      <td>12</td>\n",
       "    </tr>\n",
       "    <tr>\n",
       "      <th>3</th>\n",
       "      <td>1</td>\n",
       "      <td>2122</td>\n",
       "      <td>12</td>\n",
       "    </tr>\n",
       "    <tr>\n",
       "      <th>4</th>\n",
       "      <td>1</td>\n",
       "      <td>2171</td>\n",
       "      <td>12</td>\n",
       "    </tr>\n",
       "  </tbody>\n",
       "</table>\n",
       "</div>"
      ],
      "text/plain": [
       "   Creditability  CreditAmount  DurationOfCreditInMonths\n",
       "0              1          1049                        18\n",
       "1              1          2799                         9\n",
       "2              1           841                        12\n",
       "3              1          2122                        12\n",
       "4              1          2171                        12"
      ]
     },
     "execution_count": 6,
     "metadata": {},
     "output_type": "execute_result"
    }
   ],
   "source": [
    "G=pd.read_excel('G.xlsx',sheet_name='Sheet1',engine='openpyxl')\n",
    "G.head()"
   ]
  },
  {
   "cell_type": "code",
   "execution_count": 7,
   "metadata": {},
   "outputs": [
    {
     "data": {
      "text/html": [
       "<div>\n",
       "<style scoped>\n",
       "    .dataframe tbody tr th:only-of-type {\n",
       "        vertical-align: middle;\n",
       "    }\n",
       "\n",
       "    .dataframe tbody tr th {\n",
       "        vertical-align: top;\n",
       "    }\n",
       "\n",
       "    .dataframe thead th {\n",
       "        text-align: right;\n",
       "    }\n",
       "</style>\n",
       "<table border=\"1\" class=\"dataframe\">\n",
       "  <thead>\n",
       "    <tr style=\"text-align: right;\">\n",
       "      <th></th>\n",
       "      <th>Individual</th>\n",
       "      <th>Attrition</th>\n",
       "      <th>Age</th>\n",
       "      <th>BusinessTravel</th>\n",
       "      <th>DailyRate</th>\n",
       "      <th>Department</th>\n",
       "      <th>DistanceFromHome</th>\n",
       "      <th>Education</th>\n",
       "      <th>EducationField</th>\n",
       "      <th>EmployeeCount</th>\n",
       "      <th>...</th>\n",
       "      <th>RelationshipSatisfaction</th>\n",
       "      <th>StandardHours</th>\n",
       "      <th>StockOptionLevel</th>\n",
       "      <th>TotalWorkingYears</th>\n",
       "      <th>TrainingTimesLastYear</th>\n",
       "      <th>WorkLifeBalance</th>\n",
       "      <th>YearsAtCompany</th>\n",
       "      <th>YearsInCurrentRole</th>\n",
       "      <th>YearsSinceLastPromotion</th>\n",
       "      <th>YearsWithCurrManager</th>\n",
       "    </tr>\n",
       "  </thead>\n",
       "  <tbody>\n",
       "    <tr>\n",
       "      <th>0</th>\n",
       "      <td>Ind1</td>\n",
       "      <td>Yes</td>\n",
       "      <td>41</td>\n",
       "      <td>1</td>\n",
       "      <td>1102</td>\n",
       "      <td>1</td>\n",
       "      <td>1</td>\n",
       "      <td>2</td>\n",
       "      <td>1</td>\n",
       "      <td>1</td>\n",
       "      <td>...</td>\n",
       "      <td>1</td>\n",
       "      <td>80</td>\n",
       "      <td>0</td>\n",
       "      <td>8</td>\n",
       "      <td>0</td>\n",
       "      <td>1</td>\n",
       "      <td>6</td>\n",
       "      <td>4</td>\n",
       "      <td>0</td>\n",
       "      <td>5</td>\n",
       "    </tr>\n",
       "    <tr>\n",
       "      <th>1</th>\n",
       "      <td>Ind2</td>\n",
       "      <td>No</td>\n",
       "      <td>49</td>\n",
       "      <td>2</td>\n",
       "      <td>279</td>\n",
       "      <td>2</td>\n",
       "      <td>8</td>\n",
       "      <td>1</td>\n",
       "      <td>1</td>\n",
       "      <td>1</td>\n",
       "      <td>...</td>\n",
       "      <td>4</td>\n",
       "      <td>80</td>\n",
       "      <td>1</td>\n",
       "      <td>10</td>\n",
       "      <td>3</td>\n",
       "      <td>3</td>\n",
       "      <td>10</td>\n",
       "      <td>7</td>\n",
       "      <td>1</td>\n",
       "      <td>7</td>\n",
       "    </tr>\n",
       "    <tr>\n",
       "      <th>2</th>\n",
       "      <td>Ind3</td>\n",
       "      <td>Yes</td>\n",
       "      <td>37</td>\n",
       "      <td>1</td>\n",
       "      <td>1373</td>\n",
       "      <td>2</td>\n",
       "      <td>2</td>\n",
       "      <td>2</td>\n",
       "      <td>6</td>\n",
       "      <td>1</td>\n",
       "      <td>...</td>\n",
       "      <td>2</td>\n",
       "      <td>80</td>\n",
       "      <td>0</td>\n",
       "      <td>7</td>\n",
       "      <td>3</td>\n",
       "      <td>3</td>\n",
       "      <td>0</td>\n",
       "      <td>0</td>\n",
       "      <td>0</td>\n",
       "      <td>0</td>\n",
       "    </tr>\n",
       "    <tr>\n",
       "      <th>3</th>\n",
       "      <td>Ind4</td>\n",
       "      <td>No</td>\n",
       "      <td>33</td>\n",
       "      <td>2</td>\n",
       "      <td>1392</td>\n",
       "      <td>2</td>\n",
       "      <td>3</td>\n",
       "      <td>4</td>\n",
       "      <td>1</td>\n",
       "      <td>1</td>\n",
       "      <td>...</td>\n",
       "      <td>3</td>\n",
       "      <td>80</td>\n",
       "      <td>0</td>\n",
       "      <td>8</td>\n",
       "      <td>3</td>\n",
       "      <td>3</td>\n",
       "      <td>8</td>\n",
       "      <td>7</td>\n",
       "      <td>3</td>\n",
       "      <td>0</td>\n",
       "    </tr>\n",
       "    <tr>\n",
       "      <th>4</th>\n",
       "      <td>Ind5</td>\n",
       "      <td>No</td>\n",
       "      <td>27</td>\n",
       "      <td>1</td>\n",
       "      <td>591</td>\n",
       "      <td>2</td>\n",
       "      <td>2</td>\n",
       "      <td>1</td>\n",
       "      <td>2</td>\n",
       "      <td>1</td>\n",
       "      <td>...</td>\n",
       "      <td>4</td>\n",
       "      <td>80</td>\n",
       "      <td>1</td>\n",
       "      <td>6</td>\n",
       "      <td>3</td>\n",
       "      <td>3</td>\n",
       "      <td>2</td>\n",
       "      <td>2</td>\n",
       "      <td>2</td>\n",
       "      <td>2</td>\n",
       "    </tr>\n",
       "  </tbody>\n",
       "</table>\n",
       "<p>5 rows × 35 columns</p>\n",
       "</div>"
      ],
      "text/plain": [
       "  Individual  Attrition  Age  BusinessTravel  DailyRate  Department  \\\n",
       "0        Ind1       Yes   41               1       1102           1   \n",
       "1        Ind2        No   49               2        279           2   \n",
       "2        Ind3       Yes   37               1       1373           2   \n",
       "3        Ind4        No   33               2       1392           2   \n",
       "4        Ind5        No   27               1        591           2   \n",
       "\n",
       "   DistanceFromHome  Education  EducationField  EmployeeCount  ...  \\\n",
       "0                 1          2               1              1  ...   \n",
       "1                 8          1               1              1  ...   \n",
       "2                 2          2               6              1  ...   \n",
       "3                 3          4               1              1  ...   \n",
       "4                 2          1               2              1  ...   \n",
       "\n",
       "   RelationshipSatisfaction  StandardHours  StockOptionLevel  \\\n",
       "0                         1             80                 0   \n",
       "1                         4             80                 1   \n",
       "2                         2             80                 0   \n",
       "3                         3             80                 0   \n",
       "4                         4             80                 1   \n",
       "\n",
       "   TotalWorkingYears  TrainingTimesLastYear  WorkLifeBalance  YearsAtCompany  \\\n",
       "0                  8                      0                1               6   \n",
       "1                 10                      3                3              10   \n",
       "2                  7                      3                3               0   \n",
       "3                  8                      3                3               8   \n",
       "4                  6                      3                3               2   \n",
       "\n",
       "   YearsInCurrentRole  YearsSinceLastPromotion  YearsWithCurrManager  \n",
       "0                   4                        0                     5  \n",
       "1                   7                        1                     7  \n",
       "2                   0                        0                     0  \n",
       "3                   7                        3                     0  \n",
       "4                   2                        2                     2  \n",
       "\n",
       "[5 rows x 35 columns]"
      ]
     },
     "execution_count": 7,
     "metadata": {},
     "output_type": "execute_result"
    }
   ],
   "source": [
    "H=pd.read_table('HR.txt')\n",
    "H.head()"
   ]
  },
  {
   "cell_type": "code",
   "execution_count": 8,
   "metadata": {},
   "outputs": [
    {
     "data": {
      "text/plain": [
       "2    961\n",
       "1    446\n",
       "3     63\n",
       "Name: Department, dtype: int64"
      ]
     },
     "execution_count": 8,
     "metadata": {},
     "output_type": "execute_result"
    }
   ],
   "source": [
    "f=H['Department'].value_counts()\n",
    "f"
   ]
  },
  {
   "cell_type": "code",
   "execution_count": 9,
   "metadata": {},
   "outputs": [
    {
     "data": {
      "text/plain": [
       "<matplotlib.axes._subplots.AxesSubplot at 0x7f9c94be93d0>"
      ]
     },
     "execution_count": 9,
     "metadata": {},
     "output_type": "execute_result"
    },
    {
     "data": {
      "image/png": "[encoded data removed]",
      "text/plain": [
       "<Figure size 432x288 with 1 Axes>"
      ]
     },
     "metadata": {
      "needs_background": "light"
     },
     "output_type": "display_data"
    }
   ],
   "source": [
    "f.plot(kind='bar')"
   ]
  },
  {
   "cell_type": "code",
   "execution_count": 10,
   "metadata": {},
   "outputs": [
    {
     "data": {
      "text/plain": [
       "<matplotlib.axes._subplots.AxesSubplot at 0x7f9c923baa10>"
      ]
     },
     "execution_count": 10,
     "metadata": {},
     "output_type": "execute_result"
    },
    {
     "data": {
      "image/png": "[encoded data removed]",
      "text/plain": [
       "<Figure size 432x288 with 1 Axes>"
      ]
     },
     "metadata": {},
     "output_type": "display_data"
    }
   ],
   "source": [
    "f.plot(kind='pie')"
   ]
  },
  {
   "cell_type": "code",
   "execution_count": 11,
   "metadata": {},
   "outputs": [
    {
     "data": {
      "text/plain": [
       "<matplotlib.axes._subplots.AxesSubplot at 0x7f9c92383410>"
      ]
     },
     "execution_count": 11,
     "metadata": {},
     "output_type": "execute_result"
    },
    {
     "data": {
      "image/png": "[encoded data removed]",
      "text/plain": [
       "<Figure size 432x288 with 1 Axes>"
      ]
     },
     "metadata": {
      "needs_background": "light"
     },
     "output_type": "display_data"
    }
   ],
   "source": [
    "fa=pd.crosstab(H['Gender'],H['Attrition'])\n",
    "fa.plot(kind='bar')"
   ]
  },
  {
   "cell_type": "code",
   "execution_count": 12,
   "metadata": {},
   "outputs": [
    {
     "name": "stdout",
     "output_type": "stream",
     "text": [
      "Please Enter the Width of a Rectangle: 32\n",
      "Please Enter the Height of a Rectangle: 4\n",
      "\n",
      " Area of a Rectangle is: 128.00\n"
     ]
    }
   ],
   "source": [
    "#1\n",
    "w = float(input('Please Enter the Width of a Rectangle: ')) \n",
    "h = float(input('Please Enter the Height of a Rectangle: ')) \n",
    "\n",
    "# calculate the area\n",
    "Area = w * h\n",
    "print(\"\\n Area of a Rectangle is: %.2f\" %Area)"
   ]
  },
  {
   "cell_type": "code",
   "execution_count": 13,
   "metadata": {},
   "outputs": [
    {
     "name": "stdout",
     "output_type": "stream",
     "text": [
      "The value of x after swapping: 10\n",
      "The value of y after swapping: 5\n"
     ]
    }
   ],
   "source": [
    "#2\n",
    "\n",
    "x= 5 \n",
    "y = 10\n",
    "\n",
    "temp=x\n",
    "\n",
    "x= y\n",
    "y = temp\n",
    "\n",
    "print('The value of x after swapping: {}'.format(x)) \n",
    "print('The value of y after swapping: {}'.format(y))"
   ]
  },
  {
   "cell_type": "code",
   "execution_count": 14,
   "metadata": {},
   "outputs": [
    {
     "name": "stdout",
     "output_type": "stream",
     "text": [
      "Enter a number: 5\n",
      "5 is Odd\n"
     ]
    }
   ],
   "source": [
    "#3\n",
    "\n",
    "num = int(input(\"Enter a number: \")) \n",
    "\n",
    "if (num % 2) == 0:\n",
    "\tprint(\"{0} is Even\".format(num)) \n",
    "else:\n",
    "\tprint(\"{0} is Odd\".format(num))"
   ]
  },
  {
   "cell_type": "code",
   "execution_count": 15,
   "metadata": {},
   "outputs": [
    {
     "name": "stdout",
     "output_type": "stream",
     "text": [
      "Enter first number: 6\n",
      "Enter second number: 7\n",
      "Enter third number: 8\n",
      "The largest number is 8.0\n"
     ]
    }
   ],
   "source": [
    "#4\n",
    "\n",
    "num1 = float(input(\"Enter first number: \"))\n",
    "num2 = float(input(\"Enter second number: \"))\n",
    "num3 = float(input(\"Enter third number: \"))\n",
    "if (num1 >= num2) and (num1 >= num3): \n",
    "\tlargest = num1\n",
    "elif (num2 >= num1) and (num2 >= num3): \n",
    "\tlargest = num2\n",
    "else:\n",
    "\tlargest = num3\n",
    "\n",
    "print(\"The largest number is\", largest)"
   ]
  },
  {
   "cell_type": "code",
   "execution_count": 16,
   "metadata": {},
   "outputs": [
    {
     "name": "stdout",
     "output_type": "stream",
     "text": [
      "Inside loop\n",
      "Inside loop\n",
      "Inside loop\n",
      "Inside else\n"
     ]
    }
   ],
   "source": [
    "#5\n",
    "counter = 0\n",
    "\n",
    "while counter < 3: \n",
    "\tprint(\"Inside loop\") \n",
    "\tcounter = counter + 1\n",
    "else:\n",
    "\tprint(\"Inside else\")"
   ]
  },
  {
   "cell_type": "markdown",
   "metadata": {},
   "source": []
  },
  {
   "cell_type": "code",
   "execution_count": 17,
   "metadata": {},
   "outputs": [
    {
     "name": "stdout",
     "output_type": "stream",
     "text": [
      "Prime numbers between 1 and 100 are:\n",
      "1 2 3 5 7 11 13 17 19 23 29 31 37 41 43 47 53 59 61 67 71 73 79 83 89 97 "
     ]
    }
   ],
   "source": [
    "#6\n",
    "lower = 1\n",
    "upper = 100\n",
    "\n",
    "print(\"Prime numbers between\", lower, \"and\", upper, \"are:\")\n",
    "for num in range(lower, upper+1):\n",
    "    flag=False\n",
    "    if num > 1:\n",
    "        for i in range(2, num): \n",
    "            if (num % i == 0):\n",
    "                    flag=True\n",
    "                    break\n",
    "        if flag==False:\n",
    "            print(num,end=' ')\n",
    "    else:\n",
    "        print(num,end=' ')"
   ]
  },
  {
   "cell_type": "code",
   "execution_count": 18,
   "metadata": {},
   "outputs": [
    {
     "name": "stdout",
     "output_type": "stream",
     "text": [
      "1\n",
      "[0, 1, 3, 4, 6, 8, 8]\n"
     ]
    }
   ],
   "source": [
    "#7\n",
    "\n",
    "my_list = [3, 8, 1, 6, 0, 8, 4]\n",
    "\n",
    "print(my_list.index(8))\n",
    "\n",
    "my_list.sort()\n",
    "print(my_list)"
   ]
  },
  {
   "cell_type": "code",
   "execution_count": 19,
   "metadata": {},
   "outputs": [
    {
     "name": "stdout",
     "output_type": "stream",
     "text": [
      "1 3 5 7 9 \n",
      "2 4 6 8 10 "
     ]
    }
   ],
   "source": [
    "#8\n",
    " \n",
    "\n",
    "data = (1, 3, 5, 7, 9, 2, 4, 6, 8, 10) \n",
    "\n",
    " \n",
    "\n",
    "for i in range(0, len(data) // 2):  \n",
    "\n",
    "    print(data[i], end = ' ') \n",
    "\n",
    "print() \n",
    "\n",
    " \n",
    "\n",
    "for i in range(len(data) // 2, len(data)): \n",
    "    print(data[i], end = ' ')  "
   ]
  },
  {
   "cell_type": "code",
   "execution_count": 20,
   "metadata": {},
   "outputs": [
    {
     "name": "stdout",
     "output_type": "stream",
     "text": [
      "(12, 38, 56, 78)\n"
     ]
    }
   ],
   "source": [
    "#9\n",
    " \n",
    "\n",
    "data = (12, 7, 38, 56, 78) \n",
    "\n",
    "even = tuple(x for x in data if x % 2 == 0)  \n",
    "\n",
    "print(even) \n"
   ]
  },
  {
   "cell_type": "code",
   "execution_count": 21,
   "metadata": {},
   "outputs": [
    {
     "name": "stdout",
     "output_type": "stream",
     "text": [
      "-21\n",
      "-93\n"
     ]
    }
   ],
   "source": [
    "#10\n",
    "list = [11, -21, 0, 45, 66, -93]  \n",
    "\n",
    " \n",
    "\n",
    "for x in list: \n",
    "\n",
    "    if x < 0:  \n",
    "\n",
    "        print(x) "
   ]
  },
  {
   "cell_type": "code",
   "execution_count": 22,
   "metadata": {},
   "outputs": [
    {
     "name": "stdout",
     "output_type": "stream",
     "text": [
      "-10 -4 -45 -66 "
     ]
    }
   ],
   "source": [
    "#11\n",
    "list1 = [-10, 21, -4, -45, -66, 93]  \n",
    "\n",
    "num = 0 \n",
    "\n",
    " \n",
    "\n",
    "# using while loop  \n",
    "\n",
    " \n",
    "\n",
    "while(num < len(list1)): \n",
    "\n",
    "# checking condition  \n",
    "\n",
    "    if list1[num] < 0: \n",
    "\n",
    "        print(list1[num], end = \" \") \n",
    "\n",
    " \n",
    "\n",
    "# increment num  \n",
    "\n",
    "    num += 1 "
   ]
  },
  {
   "cell_type": "code",
   "execution_count": 23,
   "metadata": {},
   "outputs": [
    {
     "name": "stdout",
     "output_type": "stream",
     "text": [
      "Positive numbers in the list:  4\n",
      "Negative numbers in the list:  3\n"
     ]
    }
   ],
   "source": [
    "#12\n",
    "list1 = [10, -21, 4, -45, 66, -93, 1] \n",
    "\n",
    "pos_count, neg_count = 0, 0 \n",
    "\n",
    " \n",
    "\n",
    "# iterating each number in list for num in list1: \n",
    "\n",
    "# checking condition  \n",
    "i=0\n",
    "while(i<len(list1)):\n",
    "    if list1[i] >= 0: \n",
    "\n",
    "        pos_count += 1 \n",
    "\n",
    "    else: \n",
    "\n",
    "        neg_count += 1 \n",
    "    i=i+1\n",
    "\n",
    " \n",
    "\n",
    "print('Positive numbers in the list: ', pos_count)  \n",
    "\n",
    "print('Negative numbers in the list: ', neg_count) "
   ]
  },
  {
   "cell_type": "code",
   "execution_count": 24,
   "metadata": {},
   "outputs": [
    {
     "name": "stdout",
     "output_type": "stream",
     "text": [
      "Original list:  [11, -21, 0, 45, 66, -93]\n",
      "After removing even numbers: [11, -21, 45, -93]\n"
     ]
    }
   ],
   "source": [
    "#13\n",
    "list = [11, -21, 0, 45, 66, -93]  \n",
    "\n",
    "print('Original list: ', list) \n",
    "\n",
    " \n",
    "\n",
    "for x in list: \n",
    "\n",
    "    if x % 2 == 0:  \n",
    "\n",
    "        list.remove(x) \n",
    "\n",
    "print('After removing even numbers:', list) "
   ]
  },
  {
   "cell_type": "code",
   "execution_count": 25,
   "metadata": {},
   "outputs": [
    {
     "name": "stdout",
     "output_type": "stream",
     "text": [
      "    Name  Height Qualification Address\n",
      "0   Alex     181         BTech      CA\n",
      "1    Tom     180            MS      LA\n",
      "2  Harry     179           PhD      WD\n"
     ]
    }
   ],
   "source": [
    "#14 \n",
    "data = {'Name': ['Alex', 'Tom', 'Harry'],  \n",
    "\n",
    "'Height': [181, 180, 179],  \n",
    "\n",
    "'Qualification': ['BTech', 'MS', 'PhD']} \n",
    "\n",
    " \n",
    "\n",
    "df3 = pd.DataFrame.from_dict(data) \n",
    "\n",
    " \n",
    "\n",
    "addr_list = ['CA', 'LA', 'WD']  \n",
    "\n",
    "df3['Address'] = addr_list \n",
    "\n",
    " \n",
    "\n",
    "print(df3.head()) \n",
    "\n"
   ]
  },
  {
   "cell_type": "code",
   "execution_count": 26,
   "metadata": {},
   "outputs": [
    {
     "name": "stdout",
     "output_type": "stream",
     "text": [
      "    Name  Height Qualification  Age\n",
      "0   Alex     181         BTech   18\n",
      "1    Tom     180            MS   19\n",
      "2  Harry     179           PhD   20\n"
     ]
    }
   ],
   "source": [
    "#15\n",
    "df3 = pd.DataFrame.from_dict(data) \n",
    "\n",
    "cols= [18, 19,20] \n",
    "\n",
    " \n",
    "\n",
    "df3.insert(3, 'Age', cols)  \n",
    "\n",
    "print(df3.head()) \n"
   ]
  },
  {
   "cell_type": "code",
   "execution_count": 40,
   "metadata": {},
   "outputs": [
    {
     "name": "stdout",
     "output_type": "stream",
     "text": [
      "(4, 3)\n",
      "\n",
      "A    datetime64[ns]\n",
      "B             int32\n",
      "C          category\n",
      "dtype: object\n",
      "           A  B       C\n",
      "0 2013-01-02  3    Male\n",
      "1 2013-01-02  3  Female\n",
      "2 2013-01-02  3    Male\n",
      "3 2013-01-02  3  Female\n",
      "\n",
      "           A  B       C\n",
      "0 2013-01-02  3    Male\n",
      "1 2013-01-02  3  Female\n",
      "2 2013-01-02  3    Male\n",
      "3 2013-01-02  3  Female\n"
     ]
    }
   ],
   "source": [
    "#Python_Basics_Practice_2\n",
    "\n",
    "\n",
    "df1=pd.DataFrame({'A':pd.Timestamp('20130102'),'B':np.array([3]*4,dtype='int32'), 'C':pd.Categorical(['Male','Female','Male','Female'])})\n",
    "\n",
    "print(df1.shape)\n",
    "print()\n",
    "print(df1.dtypes)\n",
    "\n",
    "print(df1.head())\n",
    "\n",
    "print()\n",
    "\n",
    "\n",
    "print(df1.tail())\n",
    "\n",
    "\n"
   ]
  },
  {
   "cell_type": "code",
   "execution_count": 44,
   "metadata": {},
   "outputs": [
    {
     "name": "stdout",
     "output_type": "stream",
     "text": [
      "\n",
      "                          A    B     C\n",
      "count                     4  4.0     4\n",
      "unique                    1  NaN     2\n",
      "top     2013-01-02 00:00:00  NaN  Male\n",
      "freq                      4  NaN     2\n",
      "first   2013-01-02 00:00:00  NaN   NaN\n",
      "last    2013-01-02 00:00:00  NaN   NaN\n",
      "mean                    NaN  3.0   NaN\n",
      "std                     NaN  0.0   NaN\n",
      "min                     NaN  3.0   NaN\n",
      "25%                     NaN  3.0   NaN\n",
      "50%                     NaN  3.0   NaN\n",
      "75%                     NaN  3.0   NaN\n",
      "max                     NaN  3.0   NaN\n",
      "\n"
     ]
    }
   ],
   "source": [
    "print()\n",
    "\n",
    "\n",
    "print(df1.describe(include='all'))\n",
    "\n",
    "print()\n",
    "\n",
    "\n"
   ]
  },
  {
   "cell_type": "code",
   "execution_count": 43,
   "metadata": {},
   "outputs": [
    {
     "name": "stdout",
     "output_type": "stream",
     "text": [
      "                     0                    1                    2  \\\n",
      "A  2013-01-02 00:00:00  2013-01-02 00:00:00  2013-01-02 00:00:00   \n",
      "B                    3                    3                    3   \n",
      "C                 Male               Female                 Male   \n",
      "\n",
      "                     3  \n",
      "A  2013-01-02 00:00:00  \n",
      "B                    3  \n",
      "C               Female  \n",
      "                   A         B         C         D\n",
      "2013-01-01 -0.822714 -0.827373  1.313665 -0.739029\n",
      "2013-01-02  0.871259  0.239460  1.333670 -3.194868\n",
      "2013-01-03  1.132835  0.919507  0.511213 -1.369232\n",
      "2013-01-04 -0.167724 -0.862206  1.874520 -1.186777\n",
      "2013-01-05  0.773134  1.407999  2.748529 -0.579139\n",
      "\n",
      "                   A         B         C         D\n",
      "2013-04-06  1.415126  0.486676  1.329769  0.781742\n",
      "2013-04-07  0.367850  0.793795  0.278674 -1.128651\n",
      "2013-04-08 -0.651482 -0.316302 -0.265870  1.508340\n",
      "2013-04-09  0.571701  2.125710  0.039612  0.469565\n",
      "2013-04-10 -1.103824  1.052041 -0.865068 -0.626069\n",
      "\n",
      "DatetimeIndex(['2013-01-01', '2013-01-02', '2013-01-03', '2013-01-04',\n",
      "               '2013-01-05', '2013-01-06', '2013-01-07', '2013-01-08',\n",
      "               '2013-01-09', '2013-01-10', '2013-01-11', '2013-01-12',\n",
      "               '2013-01-13', '2013-01-14', '2013-01-15', '2013-01-16',\n",
      "               '2013-01-17', '2013-01-18', '2013-01-19', '2013-01-20',\n",
      "               '2013-01-21', '2013-01-22', '2013-01-23', '2013-01-24',\n",
      "               '2013-01-25', '2013-01-26', '2013-01-27', '2013-01-28',\n",
      "               '2013-01-29', '2013-01-30', '2013-01-31', '2013-02-01',\n",
      "               '2013-02-02', '2013-02-03', '2013-02-04', '2013-02-05',\n",
      "               '2013-02-06', '2013-02-07', '2013-02-08', '2013-02-09',\n",
      "               '2013-02-10', '2013-02-11', '2013-02-12', '2013-02-13',\n",
      "               '2013-02-14', '2013-02-15', '2013-02-16', '2013-02-17',\n",
      "               '2013-02-18', '2013-02-19', '2013-02-20', '2013-02-21',\n",
      "               '2013-02-22', '2013-02-23', '2013-02-24', '2013-02-25',\n",
      "               '2013-02-26', '2013-02-27', '2013-02-28', '2013-03-01',\n",
      "               '2013-03-02', '2013-03-03', '2013-03-04', '2013-03-05',\n",
      "               '2013-03-06', '2013-03-07', '2013-03-08', '2013-03-09',\n",
      "               '2013-03-10', '2013-03-11', '2013-03-12', '2013-03-13',\n",
      "               '2013-03-14', '2013-03-15', '2013-03-16', '2013-03-17',\n",
      "               '2013-03-18', '2013-03-19', '2013-03-20', '2013-03-21',\n",
      "               '2013-03-22', '2013-03-23', '2013-03-24', '2013-03-25',\n",
      "               '2013-03-26', '2013-03-27', '2013-03-28', '2013-03-29',\n",
      "               '2013-03-30', '2013-03-31', '2013-04-01', '2013-04-02',\n",
      "               '2013-04-03', '2013-04-04', '2013-04-05', '2013-04-06',\n",
      "               '2013-04-07', '2013-04-08', '2013-04-09', '2013-04-10'],\n",
      "              dtype='datetime64[ns]', freq='D')\n"
     ]
    }
   ],
   "source": [
    "print(df1.T)\n",
    "\n",
    "dates=pd.date_range('20130101',periods=100)\n",
    "df=pd.DataFrame(np.random.randn(100,4),index=dates)\n",
    "df.columns=['A','B','C','D']\n",
    "print(df.head())\n",
    "print()\n",
    "print(df.tail())\n",
    "print()\n",
    "print(df.index)\n",
    "\n",
    "\n",
    "\n",
    "\n",
    "\n"
   ]
  },
  {
   "cell_type": "code",
   "execution_count": 45,
   "metadata": {},
   "outputs": [
    {
     "name": "stdout",
     "output_type": "stream",
     "text": [
      "Index(['A', 'B', 'C', 'D'], dtype='object')\n",
      "   2013-01-01  2013-01-02  2013-01-03  2013-01-04  2013-01-05  2013-01-06  \\\n",
      "A   -0.822714    0.871259    1.132835   -0.167724    0.773134    0.148832   \n",
      "B   -0.827373    0.239460    0.919507   -0.862206    1.407999    0.238976   \n",
      "C    1.313665    1.333670    0.511213    1.874520    2.748529   -0.311359   \n",
      "D   -0.739029   -3.194868   -1.369232   -1.186777   -0.579139   -0.742769   \n",
      "\n",
      "   2013-01-07  2013-01-08  2013-01-09  2013-01-10  ...  2013-04-01  \\\n",
      "A    0.860516   -0.436836   -1.013762   -0.984099  ...   -1.182300   \n",
      "B   -0.030460   -1.226720    0.022226    0.877969  ...    0.856164   \n",
      "C   -0.730350   -0.776825   -0.436256   -1.856999  ...    0.405395   \n",
      "D    1.301677   -0.779838    0.813597    1.003344  ...   -0.216275   \n",
      "\n",
      "   2013-04-02  2013-04-03  2013-04-04  2013-04-05  2013-04-06  2013-04-07  \\\n",
      "A    0.720494   -0.249247   -0.618863    0.646957    1.415126    0.367850   \n",
      "B    0.210203    0.678213   -0.094891   -0.485598    0.486676    0.793795   \n",
      "C   -0.277058   -0.432237   -1.737309   -0.910998    1.329769    0.278674   \n",
      "D   -0.446866   -2.989382   -0.272661   -0.308408    0.781742   -1.128651   \n",
      "\n",
      "   2013-04-08  2013-04-09  2013-04-10  \n",
      "A   -0.651482    0.571701   -1.103824  \n",
      "B   -0.316302    2.125710    1.052041  \n",
      "C   -0.265870    0.039612   -0.865068  \n",
      "D    1.508340    0.469565   -0.626069  \n",
      "\n",
      "[4 rows x 100 columns]\n",
      "sorted \n",
      "                    D         C         B         A\n",
      "2013-01-01 -0.739029  1.313665 -0.827373 -0.822714\n",
      "2013-01-02 -3.194868  1.333670  0.239460  0.871259\n",
      "2013-01-03 -1.369232  0.511213  0.919507  1.132835\n",
      "2013-01-04 -1.186777  1.874520 -0.862206 -0.167724\n",
      "2013-01-05 -0.579139  2.748529  1.407999  0.773134\n",
      "...              ...       ...       ...       ...\n",
      "2013-04-06  0.781742  1.329769  0.486676  1.415126\n",
      "2013-04-07 -1.128651  0.278674  0.793795  0.367850\n",
      "2013-04-08  1.508340 -0.265870 -0.316302 -0.651482\n",
      "2013-04-09  0.469565  0.039612  2.125710  0.571701\n",
      "2013-04-10 -0.626069 -0.865068  1.052041 -1.103824\n",
      "\n",
      "[100 rows x 4 columns]\n",
      "sort by values\n",
      "                    A         B         C         D\n",
      "2013-02-10  2.308813 -2.151516  0.094246  1.087893\n",
      "2013-03-17  0.289981 -1.586121 -1.348567  1.209831\n",
      "2013-02-13  1.399009 -1.508542 -0.638509  1.272555\n",
      "2013-03-27 -0.677357 -1.394015 -0.780443  0.551888\n",
      "2013-02-18  1.145097 -1.288781 -0.327617 -1.792009\n",
      "...              ...       ...       ...       ...\n",
      "2013-01-18  0.421285  1.463712  0.479207 -0.782257\n",
      "2013-03-14  0.943468  1.599062 -1.842770  0.588274\n",
      "2013-02-12 -0.841696  1.668053  0.307146  0.890153\n",
      "2013-03-23  0.124238  1.668527 -1.595648 -0.182596\n",
      "2013-04-09  0.571701  2.125710  0.039612  0.469565\n",
      "\n",
      "[100 rows x 4 columns]\n"
     ]
    }
   ],
   "source": [
    "print(df.columns)\n",
    "print(df.T)\n",
    "print('sorted \\n',df.sort_index(axis=1,ascending=False))\n",
    "\n",
    "print('sort by values\\n',df.sort_values(by='B'))\n",
    "\n",
    "\n"
   ]
  },
  {
   "cell_type": "code",
   "execution_count": 46,
   "metadata": {},
   "outputs": [
    {
     "name": "stdout",
     "output_type": "stream",
     "text": [
      "slicing rows\n",
      "                    A         B         C         D\n",
      "2013-01-01 -0.822714 -0.827373  1.313665 -0.739029\n",
      "2013-01-02  0.871259  0.239460  1.333670 -3.194868\n",
      "2013-01-03  1.132835  0.919507  0.511213 -1.369232\n",
      "slicing with index name\n",
      "                    A         B         C         D\n",
      "2013-01-05  0.773134  1.407999  2.748529 -0.579139\n",
      "2013-01-06  0.148832  0.238976 -0.311359 -0.742769\n",
      "2013-01-07  0.860516 -0.030460 -0.730350  1.301677\n",
      "2013-01-08 -0.436836 -1.226720 -0.776825 -0.779838\n",
      "2013-01-09 -1.013762  0.022226 -0.436256  0.813597\n",
      "2013-01-10 -0.984099  0.877969 -1.856999  1.003344\n",
      "slicing with row and column index\n",
      " A   -0.822714\n",
      "B   -0.827373\n",
      "C    1.313665\n",
      "D   -0.739029\n",
      "Name: 2013-01-01 00:00:00, dtype: float64\n"
     ]
    }
   ],
   "source": [
    "print('slicing rows\\n',df[0:3])\n",
    "\n",
    "print('slicing with index name\\n',df['20130105':'20130110'])\n",
    "\n",
    "print('slicing with row and column index\\n',df.iloc[0])\n",
    "\n",
    "\n",
    "\n"
   ]
  },
  {
   "cell_type": "code",
   "execution_count": 47,
   "metadata": {},
   "outputs": [
    {
     "name": "stdout",
     "output_type": "stream",
     "text": [
      "slicing with row and column index\n",
      " -0.8227137997229539\n",
      "selecting single column \n",
      " 2013-01-01   -0.822714\n",
      "2013-01-02    0.871259\n",
      "2013-01-03    1.132835\n",
      "2013-01-04   -0.167724\n",
      "2013-01-05    0.773134\n",
      "                ...   \n",
      "2013-04-06    1.415126\n",
      "2013-04-07    0.367850\n",
      "2013-04-08   -0.651482\n",
      "2013-04-09    0.571701\n",
      "2013-04-10   -1.103824\n",
      "Freq: D, Name: A, Length: 100, dtype: float64\n",
      "                   A         B\n",
      "2013-01-01 -0.822714 -0.827373\n",
      "2013-01-02  0.871259  0.239460\n",
      "2013-01-03  1.132835  0.919507\n",
      "2013-01-04 -0.167724 -0.862206\n",
      "2013-01-05  0.773134  1.407999\n",
      "all positve values of A column\n",
      "                    A         B         C         D\n",
      "2013-01-02  0.871259  0.239460  1.333670 -3.194868\n",
      "2013-01-03  1.132835  0.919507  0.511213 -1.369232\n",
      "2013-01-05  0.773134  1.407999  2.748529 -0.579139\n",
      "2013-01-06  0.148832  0.238976 -0.311359 -0.742769\n",
      "2013-01-07  0.860516 -0.030460 -0.730350  1.301677\n",
      "2013-01-11  0.662602 -1.219920 -0.173338  0.284156\n",
      "2013-01-12  0.938021 -0.985187 -0.090759 -0.244768\n",
      "2013-01-14  1.318473 -0.568561 -0.016966  0.577892\n",
      "2013-01-17  0.387779  0.952456  1.068028 -1.009106\n",
      "2013-01-18  0.421285  1.463712  0.479207 -0.782257\n",
      "2013-01-20  0.039372  0.730914  1.093950  0.560556\n",
      "2013-01-23  1.298795 -0.435371  1.237406  1.192558\n",
      "2013-01-24  1.676393  0.725418 -0.066599  0.638223\n",
      "2013-01-25  0.113500  1.316634  1.209828  0.971607\n",
      "2013-01-27  1.315066 -0.796532 -0.759974  1.634868\n",
      "2013-01-28  1.987025  0.487296 -0.853215 -1.382671\n",
      "2013-01-29  0.273230  0.588554 -1.318374  0.251246\n",
      "2013-01-30  0.613030 -0.916768  0.882160 -1.602486\n",
      "2013-01-31  1.431422  1.150851 -0.829678  0.922278\n",
      "2013-02-02  0.440777 -0.392186  1.612928 -0.383032\n",
      "2013-02-04  0.992291  1.335274  0.276784  1.157510\n",
      "2013-02-06  0.218651  0.141607 -1.206038 -0.166621\n",
      "2013-02-09  0.573510  0.226114  1.616771 -0.548582\n",
      "2013-02-10  2.308813 -2.151516  0.094246  1.087893\n",
      "2013-02-13  1.399009 -1.508542 -0.638509  1.272555\n",
      "2013-02-14  0.168688 -0.283908 -0.655578  0.415122\n",
      "2013-02-15  0.761069 -0.944164 -0.147249  1.942250\n",
      "2013-02-18  1.145097 -1.288781 -0.327617 -1.792009\n",
      "2013-02-23  0.926577  1.337854 -0.171796  0.152514\n",
      "2013-02-26  1.078241  0.696196  0.292046  0.190456\n",
      "2013-02-28  0.935397 -0.661255 -0.435773 -1.833590\n",
      "2013-03-01  0.968916  0.391415  0.671305 -1.620661\n",
      "2013-03-02  1.173335 -1.287818  0.809285  0.524730\n",
      "2013-03-04  1.399978  0.945887 -1.177753 -1.088196\n",
      "2013-03-06  0.536771 -0.101738  0.946323 -0.424095\n",
      "2013-03-08  1.134564 -0.736249  0.720554 -2.351985\n",
      "2013-03-11  2.496756 -0.612012  1.723593  1.095564\n",
      "2013-03-13  0.385119  0.119364  2.517620 -1.121923\n",
      "2013-03-14  0.943468  1.599062 -1.842770  0.588274\n",
      "2013-03-15  0.345915  0.817396 -0.339858 -0.918946\n",
      "2013-03-16  3.696127  1.228142  2.020475 -0.398297\n",
      "2013-03-17  0.289981 -1.586121 -1.348567  1.209831\n",
      "2013-03-18  1.173846  0.998891 -0.786449 -0.642720\n",
      "2013-03-22  1.077285  0.379110 -0.383149 -1.971430\n",
      "2013-03-23  0.124238  1.668527 -1.595648 -0.182596\n",
      "2013-03-25  0.619608  0.015038 -2.062022 -0.663071\n",
      "2013-03-28  0.833555  0.748092  1.128231  0.533504\n",
      "2013-03-29  0.520111  0.008001  0.287771  1.701114\n",
      "2013-03-30  0.721419 -0.128043 -0.327927  1.683239\n",
      "2013-04-02  0.720494  0.210203 -0.277058 -0.446866\n",
      "2013-04-05  0.646957 -0.485598 -0.910998 -0.308408\n",
      "2013-04-06  1.415126  0.486676  1.329769  0.781742\n",
      "2013-04-07  0.367850  0.793795  0.278674 -1.128651\n",
      "2013-04-09  0.571701  2.125710  0.039612  0.469565\n"
     ]
    }
   ],
   "source": [
    "print('slicing with row and column index\\n',df.iloc[0,0])\n",
    "\n",
    "print('selecting single column \\n',df['A'])\n",
    "\n",
    "print(df.loc['20130101':'20130105',['A','B']][:5])\n",
    " \n",
    "print('all positve values of A column\\n',df[df.A>0])\n",
    "\n"
   ]
  },
  {
   "cell_type": "code",
   "execution_count": 48,
   "metadata": {},
   "outputs": [
    {
     "name": "stdout",
     "output_type": "stream",
     "text": [
      "adding data\n",
      "\n",
      "setting by assigning with a numpy array\n",
      "\n",
      "                   A         B         C  D       F\n",
      "2013-01-01 -0.822714 -0.827373  1.313665  5    Male\n",
      "2013-01-02  0.871259  0.239460  1.333670  5  Female\n",
      "2013-01-03  1.132835  0.919507  0.511213  5  Female\n",
      "2013-01-04 -0.167724 -0.862206  1.874520  5    Male\n",
      "2013-01-05  0.773134  1.407999  2.748529  5  Female\n",
      "...              ...       ...       ... ..     ...\n",
      "2013-04-06  1.415126  0.486676  1.329769  5    Male\n",
      "2013-04-07  0.367850  0.793795  0.278674  5    Male\n",
      "2013-04-08 -0.651482 -0.316302 -0.265870  5    Male\n",
      "2013-04-09  0.571701  2.125710  0.039612  5    Male\n",
      "2013-04-10 -1.103824  1.052041 -0.865068  5    Male\n",
      "\n",
      "[100 rows x 5 columns]\n",
      "deleting a column\n",
      "\n",
      "                   A         B         C  D\n",
      "2013-01-01 -0.822714 -0.827373  1.313665  5\n",
      "2013-01-02  0.871259  0.239460  1.333670  5\n",
      "2013-01-03  1.132835  0.919507  0.511213  5\n",
      "2013-01-04 -0.167724 -0.862206  1.874520  5\n",
      "2013-01-05  0.773134  1.407999  2.748529  5\n",
      "...              ...       ...       ... ..\n",
      "2013-04-06  1.415126  0.486676  1.329769  5\n",
      "2013-04-07  0.367850  0.793795  0.278674  5\n",
      "2013-04-08 -0.651482 -0.316302 -0.265870  5\n",
      "2013-04-09  0.571701  2.125710  0.039612  5\n",
      "2013-04-10 -1.103824  1.052041 -0.865068  5\n",
      "\n",
      "[100 rows x 4 columns]\n",
      "deleting row \n",
      "\n",
      "                   A         B         C  D\n",
      "2013-01-01 -0.822714 -0.827373  1.313665  5\n",
      "2013-01-02  0.871259  0.239460  1.333670  5\n",
      "2013-01-04 -0.167724 -0.862206  1.874520  5\n",
      "2013-01-05  0.773134  1.407999  2.748529  5\n",
      "2013-01-06  0.148832  0.238976 -0.311359  5\n",
      "...              ...       ...       ... ..\n",
      "2013-04-06  1.415126  0.486676  1.329769  5\n",
      "2013-04-07  0.367850  0.793795  0.278674  5\n",
      "2013-04-08 -0.651482 -0.316302 -0.265870  5\n",
      "2013-04-09  0.571701  2.125710  0.039612  5\n",
      "2013-04-10 -1.103824  1.052041 -0.865068  5\n",
      "\n",
      "[99 rows x 4 columns]\n"
     ]
    },
    {
     "name": "stderr",
     "output_type": "stream",
     "text": [
      "/home/sde/anaconda3/envs/condaML/lib/python3.7/site-packages/ipykernel_launcher.py:3: SettingWithCopyWarning: \n",
      "A value is trying to be set on a copy of a slice from a DataFrame\n",
      "\n",
      "See the caveats in the documentation: https://pandas.pydata.org/pandas-docs/stable/user_guide/indexing.html#returning-a-view-versus-a-copy\n",
      "  This is separate from the ipykernel package so we can avoid doing imports until\n"
     ]
    }
   ],
   "source": [
    "print('adding data\\n')\n",
    "df['F']=['Male']*100\n",
    "df['F'][:6]=['Male','Female','Female','Male','Female','Female']\n",
    "\n",
    "print('setting by assigning with a numpy array\\n')\n",
    "df.loc[:,'D']=np.array([5]*len(df))\n",
    "\n",
    "print(df)\n",
    "\n",
    "print('deleting a column\\n')\n",
    "df.drop('F',axis=1,inplace=True)\n",
    "print(df)\n",
    "print('deleting row \\n')\n",
    "df.drop(df.index[2],axis=0,inplace=True)\n",
    "print(df)"
   ]
  },
  {
   "cell_type": "code",
   "execution_count": null,
   "metadata": {},
   "outputs": [],
   "source": []
  }
 ],
 "metadata": {
  "kernelspec": {
   "display_name": "Python 3",
   "language": "python",
   "name": "python3"
  },
  "language_info": {
   "codemirror_mode": {
    "name": "ipython",
    "version": 3
   },
   "file_extension": ".py",
   "mimetype": "text/x-python",
   "name": "python",
   "nbconvert_exporter": "python",
   "pygments_lexer": "ipython3",
   "version": "3.7.7"
  }
 },
 "nbformat": 4,
 "nbformat_minor": 5
}
